{
 "cells": [
  {
   "cell_type": "markdown",
   "metadata": {},
   "source": [
    "# 0.0. IMPORTS"
   ]
  },
  {
   "cell_type": "code",
   "execution_count": 100,
   "metadata": {
    "ExecuteTime": {
     "end_time": "2020-08-18T03:12:08.576504Z",
     "start_time": "2020-08-18T03:12:08.568207Z"
    }
   },
   "outputs": [],
   "source": [
    "import pandas as pd\n",
    "import inflection\n",
    "import math\n",
    "import numpy as np\n",
    "import seaborn as sns\n",
    "import matplotlib.pyplot as plt"
   ]
  },
  {
   "cell_type": "markdown",
   "metadata": {
    "heading_collapsed": true
   },
   "source": [
    "## 0.1. Helper Functions"
   ]
  },
  {
   "cell_type": "markdown",
   "metadata": {
    "heading_collapsed": true
   },
   "source": [
    "## 0.2. Loading Data"
   ]
  },
  {
   "cell_type": "code",
   "execution_count": 54,
   "metadata": {
    "ExecuteTime": {
     "end_time": "2020-08-18T02:32:50.019366Z",
     "start_time": "2020-08-18T02:32:47.634300Z"
    },
    "hidden": true,
    "scrolled": true
   },
   "outputs": [
    {
     "data": {
      "text/html": [
       "<div>\n",
       "<style scoped>\n",
       "    .dataframe tbody tr th:only-of-type {\n",
       "        vertical-align: middle;\n",
       "    }\n",
       "\n",
       "    .dataframe tbody tr th {\n",
       "        vertical-align: top;\n",
       "    }\n",
       "\n",
       "    .dataframe thead th {\n",
       "        text-align: right;\n",
       "    }\n",
       "</style>\n",
       "<table border=\"1\" class=\"dataframe\">\n",
       "  <thead>\n",
       "    <tr style=\"text-align: right;\">\n",
       "      <th></th>\n",
       "      <th>Store</th>\n",
       "      <th>DayOfWeek</th>\n",
       "      <th>Date</th>\n",
       "      <th>Sales</th>\n",
       "      <th>Customers</th>\n",
       "      <th>Open</th>\n",
       "      <th>Promo</th>\n",
       "      <th>StateHoliday</th>\n",
       "      <th>SchoolHoliday</th>\n",
       "      <th>StoreType</th>\n",
       "      <th>Assortment</th>\n",
       "      <th>CompetitionDistance</th>\n",
       "      <th>CompetitionOpenSinceMonth</th>\n",
       "      <th>CompetitionOpenSinceYear</th>\n",
       "      <th>Promo2</th>\n",
       "      <th>Promo2SinceWeek</th>\n",
       "      <th>Promo2SinceYear</th>\n",
       "      <th>PromoInterval</th>\n",
       "    </tr>\n",
       "  </thead>\n",
       "  <tbody>\n",
       "    <tr>\n",
       "      <th>371037</th>\n",
       "      <td>19</td>\n",
       "      <td>6</td>\n",
       "      <td>2014-08-09</td>\n",
       "      <td>4043</td>\n",
       "      <td>383</td>\n",
       "      <td>1</td>\n",
       "      <td>0</td>\n",
       "      <td>0</td>\n",
       "      <td>0</td>\n",
       "      <td>a</td>\n",
       "      <td>c</td>\n",
       "      <td>3240.0</td>\n",
       "      <td>NaN</td>\n",
       "      <td>NaN</td>\n",
       "      <td>1</td>\n",
       "      <td>22.0</td>\n",
       "      <td>2011.0</td>\n",
       "      <td>Mar,Jun,Sept,Dec</td>\n",
       "    </tr>\n",
       "  </tbody>\n",
       "</table>\n",
       "</div>"
      ],
      "text/plain": [
       "        Store  DayOfWeek        Date  Sales  Customers  Open  Promo  \\\n",
       "371037     19          6  2014-08-09   4043        383     1      0   \n",
       "\n",
       "       StateHoliday  SchoolHoliday StoreType Assortment  CompetitionDistance  \\\n",
       "371037            0              0         a          c               3240.0   \n",
       "\n",
       "        CompetitionOpenSinceMonth  CompetitionOpenSinceYear  Promo2  \\\n",
       "371037                        NaN                       NaN       1   \n",
       "\n",
       "        Promo2SinceWeek  Promo2SinceYear     PromoInterval  \n",
       "371037             22.0           2011.0  Mar,Jun,Sept,Dec  "
      ]
     },
     "execution_count": 54,
     "metadata": {},
     "output_type": "execute_result"
    }
   ],
   "source": [
    "df_sales_raw = pd.read_csv(\"data/train.csv\", low_memory = False)\n",
    "df_store_raw = pd.read_csv(\"data/store.csv\", low_memory = False)\n",
    "\n",
    "#merge\n",
    "df_raw = pd.merge(df_sales_raw, df_store_raw, how = 'left', on = 'Store')\n",
    "df_raw.sample()"
   ]
  },
  {
   "cell_type": "markdown",
   "metadata": {},
   "source": [
    "# 1.0. DESCRIBING DATA"
   ]
  },
  {
   "cell_type": "code",
   "execution_count": 55,
   "metadata": {
    "ExecuteTime": {
     "end_time": "2020-08-18T02:32:50.091454Z",
     "start_time": "2020-08-18T02:32:50.023216Z"
    }
   },
   "outputs": [],
   "source": [
    "df1 = df_raw.copy()"
   ]
  },
  {
   "cell_type": "code",
   "execution_count": 56,
   "metadata": {
    "ExecuteTime": {
     "end_time": "2020-08-18T02:32:50.141788Z",
     "start_time": "2020-08-18T02:32:50.096327Z"
    }
   },
   "outputs": [
    {
     "data": {
      "text/plain": [
       "Index(['Store', 'DayOfWeek', 'Date', 'Sales', 'Customers', 'Open', 'Promo',\n",
       "       'StateHoliday', 'SchoolHoliday', 'StoreType', 'Assortment',\n",
       "       'CompetitionDistance', 'CompetitionOpenSinceMonth',\n",
       "       'CompetitionOpenSinceYear', 'Promo2', 'Promo2SinceWeek',\n",
       "       'Promo2SinceYear', 'PromoInterval'],\n",
       "      dtype='object')"
      ]
     },
     "execution_count": 56,
     "metadata": {},
     "output_type": "execute_result"
    }
   ],
   "source": [
    "df1.columns"
   ]
  },
  {
   "cell_type": "markdown",
   "metadata": {
    "heading_collapsed": true
   },
   "source": [
    "## 1.1. Rename Columns"
   ]
  },
  {
   "cell_type": "code",
   "execution_count": 57,
   "metadata": {
    "ExecuteTime": {
     "end_time": "2020-08-18T02:32:50.225015Z",
     "start_time": "2020-08-18T02:32:50.147007Z"
    },
    "hidden": true
   },
   "outputs": [],
   "source": [
    "cols_old = ['Store', 'DayOfWeek', 'Date', 'Sales', 'Customers', 'Open', 'Promo',\n",
    "           'StateHoliday', 'SchoolHoliday', 'StoreType', 'Assortment',\n",
    "           'CompetitionDistance', 'CompetitionOpenSinceMonth',\n",
    "           'CompetitionOpenSinceYear', 'Promo2', 'Promo2SinceWeek',\n",
    "           'Promo2SinceYear', 'PromoInterval']\n",
    "\n",
    "snakecase = lambda x:inflection.underscore(x)\n",
    "\n",
    "cols_new = list(map(snakecase, cols_old))\n",
    "\n",
    "#rename\n",
    "\n",
    "df1.columns = cols_new"
   ]
  },
  {
   "cell_type": "code",
   "execution_count": 58,
   "metadata": {
    "ExecuteTime": {
     "end_time": "2020-08-18T02:32:50.342202Z",
     "start_time": "2020-08-18T02:32:50.229548Z"
    },
    "hidden": true
   },
   "outputs": [
    {
     "data": {
      "text/plain": [
       "Index(['store', 'day_of_week', 'date', 'sales', 'customers', 'open', 'promo',\n",
       "       'state_holiday', 'school_holiday', 'store_type', 'assortment',\n",
       "       'competition_distance', 'competition_open_since_month',\n",
       "       'competition_open_since_year', 'promo2', 'promo2_since_week',\n",
       "       'promo2_since_year', 'promo_interval'],\n",
       "      dtype='object')"
      ]
     },
     "execution_count": 58,
     "metadata": {},
     "output_type": "execute_result"
    }
   ],
   "source": [
    "df1.columns"
   ]
  },
  {
   "cell_type": "markdown",
   "metadata": {
    "heading_collapsed": true
   },
   "source": [
    "## 1.2. Data Dimensions"
   ]
  },
  {
   "cell_type": "code",
   "execution_count": 59,
   "metadata": {
    "ExecuteTime": {
     "end_time": "2020-08-18T02:32:50.446641Z",
     "start_time": "2020-08-18T02:32:50.346657Z"
    },
    "hidden": true
   },
   "outputs": [
    {
     "name": "stdout",
     "output_type": "stream",
     "text": [
      "Number of rows: 1017209\n",
      "Number of columns: 18\n"
     ]
    }
   ],
   "source": [
    "print(\"Number of rows: {}\".format(df1.shape[0]))\n",
    "print(\"Number of columns: {}\".format(df1.shape[1]))"
   ]
  },
  {
   "cell_type": "markdown",
   "metadata": {
    "heading_collapsed": true
   },
   "source": [
    "## 1.3. Data Types"
   ]
  },
  {
   "cell_type": "code",
   "execution_count": 60,
   "metadata": {
    "ExecuteTime": {
     "end_time": "2020-08-18T02:32:50.544045Z",
     "start_time": "2020-08-18T02:32:50.450990Z"
    },
    "hidden": true
   },
   "outputs": [
    {
     "data": {
      "text/plain": [
       "store                             int64\n",
       "day_of_week                       int64\n",
       "date                             object\n",
       "sales                             int64\n",
       "customers                         int64\n",
       "open                              int64\n",
       "promo                             int64\n",
       "state_holiday                    object\n",
       "school_holiday                    int64\n",
       "store_type                       object\n",
       "assortment                       object\n",
       "competition_distance            float64\n",
       "competition_open_since_month    float64\n",
       "competition_open_since_year     float64\n",
       "promo2                            int64\n",
       "promo2_since_week               float64\n",
       "promo2_since_year               float64\n",
       "promo_interval                   object\n",
       "dtype: object"
      ]
     },
     "execution_count": 60,
     "metadata": {},
     "output_type": "execute_result"
    }
   ],
   "source": [
    "df1.dtypes"
   ]
  },
  {
   "cell_type": "code",
   "execution_count": 61,
   "metadata": {
    "ExecuteTime": {
     "end_time": "2020-08-18T02:32:50.802752Z",
     "start_time": "2020-08-18T02:32:50.551250Z"
    },
    "hidden": true
   },
   "outputs": [
    {
     "data": {
      "text/plain": [
       "store                                    int64\n",
       "day_of_week                              int64\n",
       "date                            datetime64[ns]\n",
       "sales                                    int64\n",
       "customers                                int64\n",
       "open                                     int64\n",
       "promo                                    int64\n",
       "state_holiday                           object\n",
       "school_holiday                           int64\n",
       "store_type                              object\n",
       "assortment                              object\n",
       "competition_distance                   float64\n",
       "competition_open_since_month           float64\n",
       "competition_open_since_year            float64\n",
       "promo2                                   int64\n",
       "promo2_since_week                      float64\n",
       "promo2_since_year                      float64\n",
       "promo_interval                          object\n",
       "dtype: object"
      ]
     },
     "execution_count": 61,
     "metadata": {},
     "output_type": "execute_result"
    }
   ],
   "source": [
    "#changing date's type\n",
    "df1['date'] = pd.to_datetime(df1['date'])\n",
    "df1.dtypes"
   ]
  },
  {
   "cell_type": "markdown",
   "metadata": {
    "heading_collapsed": true
   },
   "source": [
    "## 1.4. Check NA"
   ]
  },
  {
   "cell_type": "code",
   "execution_count": 62,
   "metadata": {
    "ExecuteTime": {
     "end_time": "2020-08-18T02:32:51.125370Z",
     "start_time": "2020-08-18T02:32:50.805691Z"
    },
    "hidden": true
   },
   "outputs": [
    {
     "data": {
      "text/plain": [
       "promo_interval                  508031\n",
       "promo2_since_week               508031\n",
       "promo2_since_year               508031\n",
       "competition_open_since_year     323348\n",
       "competition_open_since_month    323348\n",
       "competition_distance              2642\n",
       "open                                 0\n",
       "day_of_week                          0\n",
       "date                                 0\n",
       "sales                                0\n",
       "customers                            0\n",
       "school_holiday                       0\n",
       "promo                                0\n",
       "state_holiday                        0\n",
       "store_type                           0\n",
       "assortment                           0\n",
       "promo2                               0\n",
       "store                                0\n",
       "dtype: int64"
      ]
     },
     "execution_count": 62,
     "metadata": {},
     "output_type": "execute_result"
    }
   ],
   "source": [
    "df1.isna().sum().sort_values(ascending = False)"
   ]
  },
  {
   "cell_type": "markdown",
   "metadata": {
    "heading_collapsed": true
   },
   "source": [
    "## 1.5. Fillout NA"
   ]
  },
  {
   "cell_type": "code",
   "execution_count": 64,
   "metadata": {
    "ExecuteTime": {
     "end_time": "2020-08-18T02:37:40.954840Z",
     "start_time": "2020-08-18T02:33:26.548976Z"
    },
    "hidden": true
   },
   "outputs": [],
   "source": [
    "#promo_interval\n",
    "month_map = {1:'Jan',2:'Fev',3:'Mar',4:'Apr',5:'May',6:'Jun',7:'Jul',8:'Aug',9:'Sep',10:'Oct',11:'Nov',12:'Dec'}\n",
    "df1['promo_interval'].fillna(0, inplace = True)\n",
    "df1['month_map'] = df1['date'].dt.month.map(month_map)\n",
    "df1['is_promo'] = df1[['promo_interval','month_map']].apply(lambda x: 0 if x['promo_interval'] == 0 else 1 if x['month_map'] in x['promo_interval'].split(',') else 0, axis = 1 )\n",
    "\n",
    "#promo2_since_week\n",
    "df1['promo2_since_week'] = df1.apply(lambda x: x['date'].week if math.isnan(x['promo2_since_week']) else x['promo2_since_week'], axis = 1 )\n",
    "\n",
    "#promo2_since_year\n",
    "df1['promo2_since_year'] = df1.apply(lambda x: x['date'].year if math.isnan(x['promo2_since_year']) else x['promo2_since_year'], axis = 1)\n",
    "\n",
    "#competition_open_since_year\n",
    "df1['competition_open_since_year'] = df1.apply(lambda x: x['date'].year if math.isnan(x['competition_open_since_year']) else x['competition_open_since_month'], axis = 1)\n",
    "\n",
    "#competition_open_since_month\n",
    "df1['competition_open_since_month'] = df1.apply(lambda x: x['date'].month if math.isnan(x['competition_open_since_month']) else x['competition_open_since_month'], axis = 1)\n",
    "\n",
    "#competition_distance\n",
    "df1['competition_distance'] = df1['competition_distance'].apply(lambda x: 200000.0 if math.isnan(x) else x)"
   ]
  },
  {
   "cell_type": "code",
   "execution_count": 70,
   "metadata": {
    "ExecuteTime": {
     "end_time": "2020-08-18T02:49:55.785465Z",
     "start_time": "2020-08-18T02:49:55.323898Z"
    },
    "hidden": true
   },
   "outputs": [
    {
     "data": {
      "text/plain": [
       "store                           0\n",
       "day_of_week                     0\n",
       "date                            0\n",
       "sales                           0\n",
       "customers                       0\n",
       "open                            0\n",
       "promo                           0\n",
       "state_holiday                   0\n",
       "school_holiday                  0\n",
       "store_type                      0\n",
       "assortment                      0\n",
       "competition_distance            0\n",
       "competition_open_since_month    0\n",
       "competition_open_since_year     0\n",
       "promo2                          0\n",
       "promo2_since_week               0\n",
       "promo2_since_year               0\n",
       "promo_interval                  0\n",
       "month_map                       0\n",
       "is_promo                        0\n",
       "dtype: int64"
      ]
     },
     "execution_count": 70,
     "metadata": {},
     "output_type": "execute_result"
    }
   ],
   "source": [
    "df1.isnull().sum()"
   ]
  },
  {
   "cell_type": "markdown",
   "metadata": {
    "heading_collapsed": true
   },
   "source": [
    "## 1.6. Change Types"
   ]
  },
  {
   "cell_type": "code",
   "execution_count": 71,
   "metadata": {
    "ExecuteTime": {
     "end_time": "2020-08-18T02:51:36.306753Z",
     "start_time": "2020-08-18T02:51:36.282662Z"
    },
    "hidden": true
   },
   "outputs": [
    {
     "data": {
      "text/plain": [
       "store                                    int64\n",
       "day_of_week                              int64\n",
       "date                            datetime64[ns]\n",
       "sales                                    int64\n",
       "customers                                int64\n",
       "open                                     int64\n",
       "promo                                    int64\n",
       "state_holiday                           object\n",
       "school_holiday                           int64\n",
       "store_type                              object\n",
       "assortment                              object\n",
       "competition_distance                   float64\n",
       "competition_open_since_month           float64\n",
       "competition_open_since_year            float64\n",
       "promo2                                   int64\n",
       "promo2_since_week                      float64\n",
       "promo2_since_year                      float64\n",
       "promo_interval                          object\n",
       "month_map                               object\n",
       "is_promo                                 int64\n",
       "dtype: object"
      ]
     },
     "execution_count": 71,
     "metadata": {},
     "output_type": "execute_result"
    }
   ],
   "source": [
    "df1.dtypes"
   ]
  },
  {
   "cell_type": "code",
   "execution_count": 73,
   "metadata": {
    "ExecuteTime": {
     "end_time": "2020-08-18T02:53:46.121897Z",
     "start_time": "2020-08-18T02:53:46.056897Z"
    },
    "hidden": true
   },
   "outputs": [],
   "source": [
    "df1['competition_open_since_month'] = df1['competition_open_since_month'].astype(int)\n",
    "df1['competition_open_since_year'] = df1['competition_open_since_year'].astype(int)\n",
    "df1['promo2_since_week'] = df1['promo2_since_week'].astype(int)\n",
    "df1['promo2_since_year'] = df1['promo2_since_year'].astype(int)"
   ]
  },
  {
   "cell_type": "markdown",
   "metadata": {},
   "source": [
    "## 1.7. Descriptive Statistical"
   ]
  },
  {
   "cell_type": "code",
   "execution_count": 76,
   "metadata": {
    "ExecuteTime": {
     "end_time": "2020-08-18T02:58:17.232752Z",
     "start_time": "2020-08-18T02:58:17.065357Z"
    }
   },
   "outputs": [],
   "source": [
    "num_attributes = df1.select_dtypes(include = ['int64','float64'])\n",
    "cat_attributes = df1.select_dtypes(exclude = ['int64','float64','datetime64[ns]'])"
   ]
  },
  {
   "cell_type": "markdown",
   "metadata": {
    "heading_collapsed": true
   },
   "source": [
    "### 1.7.1. Numerical Attributes"
   ]
  },
  {
   "cell_type": "code",
   "execution_count": 84,
   "metadata": {
    "ExecuteTime": {
     "end_time": "2020-08-18T03:03:48.727063Z",
     "start_time": "2020-08-18T03:03:42.378879Z"
    },
    "hidden": true
   },
   "outputs": [
    {
     "data": {
      "text/html": [
       "<div>\n",
       "<style scoped>\n",
       "    .dataframe tbody tr th:only-of-type {\n",
       "        vertical-align: middle;\n",
       "    }\n",
       "\n",
       "    .dataframe tbody tr th {\n",
       "        vertical-align: top;\n",
       "    }\n",
       "\n",
       "    .dataframe thead th {\n",
       "        text-align: right;\n",
       "    }\n",
       "</style>\n",
       "<table border=\"1\" class=\"dataframe\">\n",
       "  <thead>\n",
       "    <tr style=\"text-align: right;\">\n",
       "      <th></th>\n",
       "      <th>attributes</th>\n",
       "      <th>min</th>\n",
       "      <th>max</th>\n",
       "      <th>range</th>\n",
       "      <th>mean</th>\n",
       "      <th>median</th>\n",
       "      <th>std</th>\n",
       "      <th>skew</th>\n",
       "      <th>kurtosis</th>\n",
       "    </tr>\n",
       "  </thead>\n",
       "  <tbody>\n",
       "    <tr>\n",
       "      <th>0</th>\n",
       "      <td>store</td>\n",
       "      <td>1.0</td>\n",
       "      <td>1115.0</td>\n",
       "      <td>1114.0</td>\n",
       "      <td>558.429727</td>\n",
       "      <td>558.0</td>\n",
       "      <td>321.908493</td>\n",
       "      <td>-0.000955</td>\n",
       "      <td>-1.200524</td>\n",
       "    </tr>\n",
       "    <tr>\n",
       "      <th>1</th>\n",
       "      <td>day_of_week</td>\n",
       "      <td>1.0</td>\n",
       "      <td>7.0</td>\n",
       "      <td>6.0</td>\n",
       "      <td>3.998341</td>\n",
       "      <td>4.0</td>\n",
       "      <td>1.997390</td>\n",
       "      <td>0.001593</td>\n",
       "      <td>-1.246873</td>\n",
       "    </tr>\n",
       "    <tr>\n",
       "      <th>2</th>\n",
       "      <td>sales</td>\n",
       "      <td>0.0</td>\n",
       "      <td>41551.0</td>\n",
       "      <td>41551.0</td>\n",
       "      <td>5773.818972</td>\n",
       "      <td>5744.0</td>\n",
       "      <td>3849.924283</td>\n",
       "      <td>0.641460</td>\n",
       "      <td>1.778375</td>\n",
       "    </tr>\n",
       "    <tr>\n",
       "      <th>3</th>\n",
       "      <td>customers</td>\n",
       "      <td>0.0</td>\n",
       "      <td>7388.0</td>\n",
       "      <td>7388.0</td>\n",
       "      <td>633.145946</td>\n",
       "      <td>609.0</td>\n",
       "      <td>464.411506</td>\n",
       "      <td>1.598650</td>\n",
       "      <td>7.091773</td>\n",
       "    </tr>\n",
       "    <tr>\n",
       "      <th>4</th>\n",
       "      <td>open</td>\n",
       "      <td>0.0</td>\n",
       "      <td>1.0</td>\n",
       "      <td>1.0</td>\n",
       "      <td>0.830107</td>\n",
       "      <td>1.0</td>\n",
       "      <td>0.375539</td>\n",
       "      <td>-1.758045</td>\n",
       "      <td>1.090723</td>\n",
       "    </tr>\n",
       "    <tr>\n",
       "      <th>5</th>\n",
       "      <td>promo</td>\n",
       "      <td>0.0</td>\n",
       "      <td>1.0</td>\n",
       "      <td>1.0</td>\n",
       "      <td>0.381515</td>\n",
       "      <td>0.0</td>\n",
       "      <td>0.485758</td>\n",
       "      <td>0.487838</td>\n",
       "      <td>-1.762018</td>\n",
       "    </tr>\n",
       "    <tr>\n",
       "      <th>6</th>\n",
       "      <td>school_holiday</td>\n",
       "      <td>0.0</td>\n",
       "      <td>1.0</td>\n",
       "      <td>1.0</td>\n",
       "      <td>0.178647</td>\n",
       "      <td>0.0</td>\n",
       "      <td>0.383056</td>\n",
       "      <td>1.677842</td>\n",
       "      <td>0.815154</td>\n",
       "    </tr>\n",
       "    <tr>\n",
       "      <th>7</th>\n",
       "      <td>competition_distance</td>\n",
       "      <td>20.0</td>\n",
       "      <td>200000.0</td>\n",
       "      <td>199980.0</td>\n",
       "      <td>5935.442677</td>\n",
       "      <td>2330.0</td>\n",
       "      <td>12547.646829</td>\n",
       "      <td>10.242344</td>\n",
       "      <td>147.789712</td>\n",
       "    </tr>\n",
       "    <tr>\n",
       "      <th>8</th>\n",
       "      <td>competition_open_since_month</td>\n",
       "      <td>1.0</td>\n",
       "      <td>12.0</td>\n",
       "      <td>11.0</td>\n",
       "      <td>6.786849</td>\n",
       "      <td>7.0</td>\n",
       "      <td>3.311085</td>\n",
       "      <td>-0.042076</td>\n",
       "      <td>-1.232607</td>\n",
       "    </tr>\n",
       "    <tr>\n",
       "      <th>9</th>\n",
       "      <td>competition_open_since_year</td>\n",
       "      <td>1.0</td>\n",
       "      <td>2015.0</td>\n",
       "      <td>2014.0</td>\n",
       "      <td>645.079207</td>\n",
       "      <td>10.0</td>\n",
       "      <td>934.384928</td>\n",
       "      <td>0.782202</td>\n",
       "      <td>-1.388125</td>\n",
       "    </tr>\n",
       "    <tr>\n",
       "      <th>10</th>\n",
       "      <td>promo2</td>\n",
       "      <td>0.0</td>\n",
       "      <td>1.0</td>\n",
       "      <td>1.0</td>\n",
       "      <td>0.500564</td>\n",
       "      <td>1.0</td>\n",
       "      <td>0.500000</td>\n",
       "      <td>-0.002255</td>\n",
       "      <td>-1.999999</td>\n",
       "    </tr>\n",
       "    <tr>\n",
       "      <th>11</th>\n",
       "      <td>promo2_since_week</td>\n",
       "      <td>1.0</td>\n",
       "      <td>52.0</td>\n",
       "      <td>51.0</td>\n",
       "      <td>23.619033</td>\n",
       "      <td>22.0</td>\n",
       "      <td>14.310057</td>\n",
       "      <td>0.178723</td>\n",
       "      <td>-1.184046</td>\n",
       "    </tr>\n",
       "    <tr>\n",
       "      <th>12</th>\n",
       "      <td>promo2_since_year</td>\n",
       "      <td>2009.0</td>\n",
       "      <td>2015.0</td>\n",
       "      <td>6.0</td>\n",
       "      <td>2012.793297</td>\n",
       "      <td>2013.0</td>\n",
       "      <td>1.662657</td>\n",
       "      <td>-0.784436</td>\n",
       "      <td>-0.210075</td>\n",
       "    </tr>\n",
       "    <tr>\n",
       "      <th>13</th>\n",
       "      <td>is_promo</td>\n",
       "      <td>0.0</td>\n",
       "      <td>1.0</td>\n",
       "      <td>1.0</td>\n",
       "      <td>0.155231</td>\n",
       "      <td>0.0</td>\n",
       "      <td>0.362124</td>\n",
       "      <td>1.904152</td>\n",
       "      <td>1.625796</td>\n",
       "    </tr>\n",
       "  </tbody>\n",
       "</table>\n",
       "</div>"
      ],
      "text/plain": [
       "                      attributes     min       max     range         mean  \\\n",
       "0                          store     1.0    1115.0    1114.0   558.429727   \n",
       "1                    day_of_week     1.0       7.0       6.0     3.998341   \n",
       "2                          sales     0.0   41551.0   41551.0  5773.818972   \n",
       "3                      customers     0.0    7388.0    7388.0   633.145946   \n",
       "4                           open     0.0       1.0       1.0     0.830107   \n",
       "5                          promo     0.0       1.0       1.0     0.381515   \n",
       "6                 school_holiday     0.0       1.0       1.0     0.178647   \n",
       "7           competition_distance    20.0  200000.0  199980.0  5935.442677   \n",
       "8   competition_open_since_month     1.0      12.0      11.0     6.786849   \n",
       "9    competition_open_since_year     1.0    2015.0    2014.0   645.079207   \n",
       "10                        promo2     0.0       1.0       1.0     0.500564   \n",
       "11             promo2_since_week     1.0      52.0      51.0    23.619033   \n",
       "12             promo2_since_year  2009.0    2015.0       6.0  2012.793297   \n",
       "13                      is_promo     0.0       1.0       1.0     0.155231   \n",
       "\n",
       "    median           std       skew    kurtosis  \n",
       "0    558.0    321.908493  -0.000955   -1.200524  \n",
       "1      4.0      1.997390   0.001593   -1.246873  \n",
       "2   5744.0   3849.924283   0.641460    1.778375  \n",
       "3    609.0    464.411506   1.598650    7.091773  \n",
       "4      1.0      0.375539  -1.758045    1.090723  \n",
       "5      0.0      0.485758   0.487838   -1.762018  \n",
       "6      0.0      0.383056   1.677842    0.815154  \n",
       "7   2330.0  12547.646829  10.242344  147.789712  \n",
       "8      7.0      3.311085  -0.042076   -1.232607  \n",
       "9     10.0    934.384928   0.782202   -1.388125  \n",
       "10     1.0      0.500000  -0.002255   -1.999999  \n",
       "11    22.0     14.310057   0.178723   -1.184046  \n",
       "12  2013.0      1.662657  -0.784436   -0.210075  \n",
       "13     0.0      0.362124   1.904152    1.625796  "
      ]
     },
     "execution_count": 84,
     "metadata": {},
     "output_type": "execute_result"
    }
   ],
   "source": [
    "#Central Tendency - Mean, Median\n",
    "ct1 = pd.DataFrame(num_attributes.apply(np.mean)).T\n",
    "ct2 = pd.DataFrame(num_attributes.apply(np.median)).T\n",
    "\n",
    "#Dispersion - Std, Min, Max, Range, Skew, Kurtosis\n",
    "d1 = pd.DataFrame(num_attributes.apply(np.std)).T\n",
    "d2 = pd.DataFrame(num_attributes.apply(min)).T\n",
    "d3 = pd.DataFrame(num_attributes.apply(max)).T\n",
    "d4 = pd.DataFrame(num_attributes.apply(lambda x: x.max() - x.min())).T\n",
    "d5 = pd.DataFrame(num_attributes.apply(lambda x: x.skew())).T\n",
    "d6 = pd.DataFrame(num_attributes.apply(lambda x: x.kurtosis())).T\n",
    "\n",
    "\n",
    "m = pd.concat([d2,d3,d4,ct1,ct2,d1,d5,d6]).T.reset_index()\n",
    "m.columns = ['attributes','min','max','range','mean','median','std','skew','kurtosis']\n",
    "m"
   ]
  },
  {
   "cell_type": "markdown",
   "metadata": {},
   "source": [
    "### 1.7.2. Categorical Attributes"
   ]
  },
  {
   "cell_type": "code",
   "execution_count": 95,
   "metadata": {
    "ExecuteTime": {
     "end_time": "2020-08-18T03:08:42.748895Z",
     "start_time": "2020-08-18T03:08:42.460839Z"
    }
   },
   "outputs": [
    {
     "data": {
      "text/plain": [
       "state_holiday      4\n",
       "store_type         4\n",
       "assortment         3\n",
       "promo_interval     4\n",
       "month_map         12\n",
       "dtype: int64"
      ]
     },
     "execution_count": 95,
     "metadata": {},
     "output_type": "execute_result"
    }
   ],
   "source": [
    "cat_attributes.apply(lambda x: x.unique().shape[0])"
   ]
  },
  {
   "cell_type": "code",
   "execution_count": 106,
   "metadata": {
    "ExecuteTime": {
     "end_time": "2020-08-18T03:14:34.098530Z",
     "start_time": "2020-08-18T03:14:33.116827Z"
    }
   },
   "outputs": [
    {
     "data": {
      "text/plain": [
       "<matplotlib.axes._subplots.AxesSubplot at 0x7fa807912250>"
      ]
     },
     "execution_count": 106,
     "metadata": {},
     "output_type": "execute_result"
    },
    {
     "data": {
      "image/png": "[encoded data removed]",
      "text/plain": [
       "<Figure size 1440x504 with 3 Axes>"
      ]
     },
     "metadata": {
      "needs_background": "light"
     },
     "output_type": "display_data"
    }
   ],
   "source": [
    "plt.figure(figsize = (20,7))\n",
    "aux1 = df1[(df1['state_holiday'] != '0') & (df1['sales'] > 0 )]\n",
    "\n",
    "plt.subplot(1,3,1)\n",
    "sns.boxplot(x = 'state_holiday', y = 'sales', data = aux1)\n",
    "\n",
    "plt.subplot(1,3,2)\n",
    "sns.boxplot(x = 'store_type',y = 'sales', data = aux1)\n",
    "\n",
    "plt.subplot(1,3,3)\n",
    "sns.boxplot(x = 'assortment', y = 'sales', data = aux1)"
   ]
  },
  {
   "cell_type": "markdown",
   "metadata": {},
   "source": [
    "# 2.0. FEATURE ENGINEERING"
   ]
  },
  {
   "cell_type": "code",
   "execution_count": null,
   "metadata": {},
   "outputs": [],
   "source": []
  }
 ],
 "metadata": {
  "kernelspec": {
   "display_name": "Python 3",
   "language": "python",
   "name": "python3"
  },
  "language_info": {
   "codemirror_mode": {
    "name": "ipython",
    "version": 3
   },
   "file_extension": ".py",
   "mimetype": "text/x-python",
   "name": "python",
   "nbconvert_exporter": "python",
   "pygments_lexer": "ipython3",
   "version": "3.8.1"
  }
 },
 "nbformat": 4,
 "nbformat_minor": 2
}
